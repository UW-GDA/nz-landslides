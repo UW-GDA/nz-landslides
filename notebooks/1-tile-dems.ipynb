{
 "cells": [
  {
   "cell_type": "markdown",
   "id": "eb65d91d-3383-48c2-b195-769b906529da",
   "metadata": {},
   "source": [
    "# 1. Tile DTMs "
   ]
  },
  {
   "cell_type": "markdown",
   "id": "c4541a14-4328-4d1a-8d4e-5857b9946e93",
   "metadata": {},
   "source": [
    "We have now our DTMs in UTM CRS, but they are too large to be pushed into the remote repository. This notebook will help us tile our DTMs so we will then be able to push them into our remote repository. Some of these functions were written with the help of `ChatGPT` and then implemented for our project. "
   ]
  },
  {
   "cell_type": "code",
   "execution_count": 1,
   "id": "120422c7-ca7b-4fc0-9b1f-68c0ccb63e23",
   "metadata": {},
   "outputs": [],
   "source": [
    "import os\n",
    "import requests\n",
    "import numpy as np\n",
    "import pandas as pd\n",
    "import geopandas as gpd\n",
    "import rasterio as rio\n",
    "import rasterio.plot\n",
    "from osgeo import gdal\n",
    "from rasterio import plot, mask, Affine\n",
    "from rasterio.warp import calculate_default_transform, reproject, Resampling\n",
    "from rasterio.crs import CRS\n",
    "from rasterio.windows import Window\n",
    "import matplotlib.pyplot as plt\n",
    "import rasterstats\n",
    "import rioxarray\n",
    "from matplotlib_scalebar.scalebar import ScaleBar"
   ]
  },
  {
   "cell_type": "code",
   "execution_count": 2,
   "id": "f830e098-043e-4c08-a358-1211fe7975da",
   "metadata": {},
   "outputs": [],
   "source": [
    "def tile_dem(input_dem, tile_size_x, tile_size_y, output_directory):\n",
    "    ds = gdal.Open(input_dem)\n",
    "    band = ds.GetRasterBand(1)\n",
    "    cols = ds.RasterXSize\n",
    "    rows = ds.RasterYSize\n",
    "    transform = ds.GetGeoTransform()\n",
    "    projection = ds.GetProjection()\n",
    "\n",
    "    for i in range(0, rows, tile_size_y):\n",
    "        for j in range(0, cols, tile_size_x):\n",
    "            tile_name = os.path.join(output_directory, f\"tile_{i}_{j}.tif\")\n",
    "            tile_cols = min(tile_size_x, cols - j)\n",
    "            tile_rows = min(tile_size_y, rows - i)\n",
    "\n",
    "            driver = gdal.GetDriverByName(\"GTiff\")\n",
    "            tile_ds = driver.Create(tile_name, tile_cols, tile_rows, 1, band.DataType)\n",
    "            tile_ds.SetProjection(projection)\n",
    "            tile_ds.SetGeoTransform((transform[0] + j * transform[1], transform[1], transform[2], \n",
    "                                     transform[3] + i * transform[5], transform[4], transform[5]))\n",
    "\n",
    "            # Read the corresponding data from the input DEM and write to the tile\n",
    "            tile_data = band.ReadAsArray(j, i, tile_cols, tile_rows)\n",
    "            tile_ds.GetRasterBand(1).WriteArray(tile_data)\n",
    "\n",
    "            tile_ds.FlushCache()  # Flush the cache to write to disk\n",
    "            tile_ds = None\n",
    "\n",
    "    ds = None"
   ]
  },
  {
   "cell_type": "code",
   "execution_count": 3,
   "id": "7da2f996-5fda-4ee2-b3aa-cc925d482dc5",
   "metadata": {},
   "outputs": [
    {
     "name": "stderr",
     "output_type": "stream",
     "text": [
      "/srv/conda/envs/notebook/lib/python3.12/site-packages/osgeo/gdal.py:312: FutureWarning: Neither gdal.UseExceptions() nor gdal.DontUseExceptions() has been explicitly called. In GDAL 4.0, exceptions will be enabled by default.\n",
      "  warnings.warn(\n"
     ]
    },
    {
     "name": "stdout",
     "output_type": "stream",
     "text": [
      "Tiles creation completed: '/home/jovyan/nz-landslides/0-brute-raw-data/dem/2016_tiles'\n",
      "Tiles creation completed: '/home/jovyan/nz-landslides/0-brute-raw-data/dem/2017_tiles'\n",
      "Tiles creation completed: '/home/jovyan/nz-landslides/0-brute-raw-data/dem/2018_tiles'\n"
     ]
    }
   ],
   "source": [
    "# Example usage:\n",
    "demdir = ['/home/jovyan/nz-landslides/0-brute-raw-data/dem/2016_tiles',\n",
    "          '/home/jovyan/nz-landslides/0-brute-raw-data/dem/2017_tiles',\n",
    "          '/home/jovyan/nz-landslides/0-brute-raw-data/dem/2018_tiles']\n",
    "\n",
    "dempath = ['/home/jovyan/nz-landslides_local/0-brute-raw-data/dem/2016_utm.tif',\n",
    "           '/home/jovyan/nz-landslides_local/0-brute-raw-data/dem/2017_utm.tif',\n",
    "           '/home/jovyan/nz-landslides_local/0-brute-raw-data/dem/2018_utm.tif']\n",
    "\n",
    "for dir, path in zip(demdir, dempath): \n",
    "    \n",
    "    input_dem = path  # Path to input DEM\n",
    "    tile_size_x = 2048  # Tile size in X direction\n",
    "    tile_size_y = 2048  # Tile size in Y direction\n",
    "    output_directory = dir  # Output directory for tiles\n",
    "    \n",
    "    # Create the output directory if it doesn't exist\n",
    "    os.makedirs(output_directory, exist_ok=True)\n",
    "    \n",
    "    # Call the function to tile the DEM\n",
    "    tile_dem(input_dem, tile_size_x, tile_size_y, output_directory)\n",
    "    \n",
    "    print(\"Tiles creation completed: '{}'\".format(dir))"
   ]
  },
  {
   "cell_type": "code",
   "execution_count": null,
   "id": "5b5383d0-6323-461e-a77f-3cac4b49e7b0",
   "metadata": {},
   "outputs": [],
   "source": []
  }
 ],
 "metadata": {
  "kernelspec": {
   "display_name": "Python 3 (ipykernel)",
   "language": "python",
   "name": "python3"
  },
  "language_info": {
   "codemirror_mode": {
    "name": "ipython",
    "version": 3
   },
   "file_extension": ".py",
   "mimetype": "text/x-python",
   "name": "python",
   "nbconvert_exporter": "python",
   "pygments_lexer": "ipython3",
   "version": "3.12.1"
  }
 },
 "nbformat": 4,
 "nbformat_minor": 5
}
