{
 "cells": [
  {
   "cell_type": "code",
   "execution_count": 1,
   "id": "d7ba2449-5d5a-4f6e-9e0f-e0f244720197",
   "metadata": {},
   "outputs": [],
   "source": [
    "import os\n",
    "import rasterio as rio\n",
    "import rasterio.plot\n",
    "import requests\n",
    "import matplotlib.pyplot as plt\n",
    "from dateutil import parser"
   ]
  },
  {
   "cell_type": "markdown",
   "id": "5c7f519b-e52e-438c-a398-5106c304f924",
   "metadata": {},
   "source": [
    "## Download NDVI images\n",
    "\n",
    "This is my first approach to downloading imagery. It's adapted from an example that we used in class, but it's slow and prone to random 404 errors. I'm leaving it in for context, but you should see the file [download_ndvi_odc_stac.ipynb] for the updated approach"
   ]
  },
  {
   "cell_type": "code",
   "execution_count": 2,
   "id": "f87caa4d",
   "metadata": {},
   "outputs": [
    {
     "name": "stdout",
     "output_type": "stream",
     "text": [
      " Volume in drive C has no label.\n",
      " Volume Serial Number is A056-A881\n",
      "\n",
      " Directory of c:\\Users\\alan\\Dropbox\\PC (2)\\Documents\\github\\nz-landslides\\notebooks\n",
      "\n",
      "03/07/2024  06:40 PM    <DIR>          .\n",
      "03/07/2024  06:40 PM    <DIR>          ..\n",
      "03/07/2024  06:39 PM           248,654 0-reading-brute-raw-data.ipynb\n",
      "03/07/2024  06:39 PM             5,281 1-tile-dems.ipynb\n",
      "03/07/2024  06:39 PM           128,293 2-create-vrt.ipynb\n",
      "03/07/2024  06:39 PM           980,842 3-interacting-vrt-polygon.ipynb\n",
      "03/07/2024  06:39 PM           866,122 4-calculating-differences&correlations.ipynb\n",
      "03/08/2024  01:27 AM           367,746 download_ndvi.ipynb\n",
      "03/08/2024  01:27 AM         2,853,741 landsat-c2-example(1).ipynb\n",
      "03/08/2024  01:08 AM           347,035 match_nvdi_to_polygons.ipynb\n",
      "               8 File(s)      5,797,714 bytes\n",
      "               2 Dir(s)  691,776,368,640 bytes free\n"
     ]
    }
   ],
   "source": [
    "!dir"
   ]
  },
  {
   "cell_type": "code",
   "execution_count": 3,
   "id": "3e587447-0417-4150-b4bd-45f81e937366",
   "metadata": {},
   "outputs": [],
   "source": [
    "#Create local directory to store images\n",
    "\n",
    "imgdir=\"../1-raw-data/ndvi\"\n",
    "if not os.path.exists(imgdir):\n",
    "    os.makedirs(imgdir)"
   ]
  },
  {
   "cell_type": "markdown",
   "id": "a4552772-007e-423e-8c89-8a038c1daa33",
   "metadata": {},
   "source": [
    "### Download assets for specific images\n",
    "* Dynamimcally construct url using known information\n",
    "* Using Microsoft Planetary Computer archive of Collection 2 Level 2 images\n",
    "    * https://planetarycomputer.microsoft.com/dataset/landsat-c2-l2\n",
    "* Need to obtain token to authenticate (\"sign\") urls"
   ]
  },
  {
   "cell_type": "code",
   "execution_count": 4,
   "id": "a69dc09e-5f50-4bb1-8202-d44bdd973782",
   "metadata": {
    "tags": []
   },
   "outputs": [],
   "source": [
    "#Collection name\n",
    "collection = 'landsat-c2-l2'"
   ]
  },
  {
   "cell_type": "code",
   "execution_count": 5,
   "id": "35a9f48b-cd5f-4c8d-93bc-a8791a236e60",
   "metadata": {
    "tags": []
   },
   "outputs": [],
   "source": [
    "#Base url for this collection\n",
    "base_url = 'https://landsateuwest.blob.core.windows.net/landsat-c2/level-2/standard/oli-tirs'"
   ]
  },
  {
   "cell_type": "code",
   "execution_count": 14,
   "id": "8fc58bb6-b378-419d-a98d-361db6a7364d",
   "metadata": {
    "tags": []
   },
   "outputs": [],
   "source": [
    "#List of hand selected images with low cloud cover - found via EarthExplorer\n",
    "\n",
    "img_list = ['LC08_L2SP_073089_20161215_20200905_02_T1',\n",
    "            'LC08_L2SP_073089_20160419_20200907_02_T1',\n",
    "            'LC08_L2SP_073089_20161012_20200905_02_T1',\n",
    "            'LC08_L2SP_073089_20161215_20200905_02_T1',\n",
    "            'LC08_L2SP_073089_20171202_20200902_02_T1',\n",
    "            'LC08_L2SP_073089_20181018_20200830_02_T1',\n",
    "            'LC08_L2SP_073089_20201210_20210313_02_T1',\n",
    "            'LC09_L2SP_073089_20221106_20230323_02_T1',\n",
    "            'LC09_L2SP_073089_20221122_20230321_02_T1',  ]\n",
    "\n"
   ]
  },
  {
   "cell_type": "code",
   "execution_count": 19,
   "id": "0d4e8b5a",
   "metadata": {},
   "outputs": [],
   "source": [
    "# From my selected images using odc.stac, pull the ones that were taken in Oct - Dec\n",
    "\n",
    "# img_fn = os.path.join('../1-raw-data/ndvi/autoselected_images.txt')\n",
    "\n",
    "# img_list = []\n",
    "\n",
    "# with open(img_fn, 'r') as f:\n",
    "#     for l in f:\n",
    "#         line = l.split(',')\n",
    "#         date = parser.parse(line[0])\n",
    "\n",
    "#         if date.month > 9:\n",
    "\n",
    "#             img_list.append(line[1][:-1])\n"
   ]
  },
  {
   "cell_type": "code",
   "execution_count": 7,
   "id": "1cd84e5e-df0c-4f06-8318-af1518fffaca",
   "metadata": {
    "tags": []
   },
   "outputs": [
    {
     "data": {
      "text/plain": [
       "'st=2024-03-07T16%3A44%3A05Z&se=2024-03-08T17%3A29%3A05Z&sp=rl&sv=2021-06-08&sr=c&skoid=c85c15d6-d1ae-42d4-af60-e2ca0f81359b&sktid=72f988bf-86f1-41af-91ab-2d7cd011db47&skt=2024-03-08T13%3A21%3A50Z&ske=2024-03-15T13%3A21%3A50Z&sks=b&skv=2021-06-08&sig=YloOJGrvMOzYS9VTryZ1XKIy/2Vz4/AeH4zcnt00eTY%3D'"
      ]
     },
     "execution_count": 7,
     "metadata": {},
     "output_type": "execute_result"
    }
   ],
   "source": [
    "# Get a token for signed url preparation\n",
    "resp = requests.get(f'https://planetarycomputer.microsoft.com/api/sas/v1/token/{collection}')\n",
    "token = resp.json()['token']\n",
    "token"
   ]
  },
  {
   "cell_type": "markdown",
   "id": "4f893258-3f1c-4fd7-be11-972c6902a75c",
   "metadata": {},
   "source": [
    "## Download images, compute NDVI, and save product"
   ]
  },
  {
   "cell_type": "code",
   "execution_count": 8,
   "id": "5acc4043-1022-4ef9-957b-ecf7a94987ce",
   "metadata": {},
   "outputs": [],
   "source": [
    "def download_ndvi(img, plot=False, overwrite = False):\n",
    "    b4 = 'SR_B4'\n",
    "    b5 = 'SR_B5'\n",
    "    \n",
    "    #Generate the appropriate URL for the image IDs\n",
    "    year = img.split('_')[3][0:4]\n",
    "    path = img.split('_')[2][0:3]\n",
    "    row = img.split('_')[2][3:]\n",
    "    image_url_b4 =  f'{base_url}/{year}/{path}/{row}/{img}/{img}_{b4}.TIF'\n",
    "    image_url_b5 =  f'{base_url}/{year}/{path}/{row}/{img}/{img}_{b5}.TIF'\n",
    "\n",
    "    #Local filename\n",
    "    out_fn = os.path.join(imgdir, img + '_ndvi.TIF')\n",
    "    print(out_fn)\n",
    "\n",
    "    if not os.path.exists(out_fn) or overwrite:\n",
    "        with rio.open(f'{image_url_b4}?{token}') as r_src:\n",
    "            with rio.open(f'{image_url_b5}?{token}') as nir_src: \n",
    "\n",
    "                #read in red and nir bands\n",
    "    \n",
    "                r = r_src.read(1, masked = True).astype('float')\n",
    "                nir = nir_src.read(1, masked=True).astype('float')\n",
    "\n",
    "                # compute ndvi\n",
    "                ndvi = (nir-r)/(r+nir)\n",
    "    \n",
    "                \n",
    "                if plot:\n",
    "                    plt.imshow(ndvi, cmap = \"viridis\", vmin = 0.1, vmax = 5)\n",
    "    \n",
    "                \n",
    "                # Write to TIFF\n",
    "                kwargs = r_src.meta\n",
    "                kwargs.update(\n",
    "                    dtype=rasterio.float32,\n",
    "                    count=1,\n",
    "                    nodata=999.9) # changing nodata value so that 0s aren't masked\n",
    "\n",
    "                print(\"Saving:\", out_fn)\n",
    "                #Download the file\n",
    "\n",
    "                with rasterio.open(out_fn, 'w', **kwargs) as dst:\n",
    "                    dst.write(ndvi.astype(rasterio.float32),1)\n",
    "                print(\"done\")\n",
    "\n",
    "    else:\n",
    "        print(\"File already exists\")\n",
    "\n",
    "    return ndvi"
   ]
  },
  {
   "cell_type": "code",
   "execution_count": 18,
   "id": "112a04ff-3bed-473f-a358-d366fdb8b183",
   "metadata": {},
   "outputs": [
    {
     "name": "stdout",
     "output_type": "stream",
     "text": [
      "../1-raw-data/ndvi\\LC08_L2SP_073089_20231219_20240103_02_T1_ndvi.TIF\n",
      "File already exists\n",
      "local variable 'ndvi' referenced before assignment\n",
      "../1-raw-data/ndvi\\LC07_L2SP_074089_20231210_20240105_02_T1_ndvi.TIF\n",
      "'/vsicurl/https://landsateuwest.blob.core.windows.net/landsat-c2/level-2/standard/oli-tirs/2023/074/089/LC07_L2SP_074089_20231210_20240105_02_T1/LC07_L2SP_074089_20231210_20240105_02_T1_SR_B4.TIF?st=2024-03-07T16%3A44%3A05Z&se=2024-03-08T17%3A29%3A05Z&sp=rl&sv=2021-06-08&sr=c&skoid=c85c15d6-d1ae-42d4-af60-e2ca0f81359b&sktid=72f988bf-86f1-41af-91ab-2d7cd011db47&skt=2024-03-08T13%3A21%3A50Z&ske=2024-03-15T13%3A21%3A50Z&sks=b&skv=2021-06-08&sig=YloOJGrvMOzYS9VTryZ1XKIy/2Vz4/AeH4zcnt00eTY%3D' not recognized as a supported file format.\n",
      "../1-raw-data/ndvi\\LC09_L2SP_073089_20231125_20231128_02_T1_ndvi.TIF\n",
      "File already exists\n",
      "local variable 'ndvi' referenced before assignment\n",
      "../1-raw-data/ndvi\\LC08_L2SP_073089_20221114_20221122_02_T1_ndvi.TIF\n",
      "File already exists\n",
      "local variable 'ndvi' referenced before assignment\n",
      "../1-raw-data/ndvi\\LC09_L2SP_073089_20221106_20221110_02_T1_ndvi.TIF\n",
      "File already exists\n",
      "local variable 'ndvi' referenced before assignment\n",
      "../1-raw-data/ndvi\\LC07_L2SP_073089_20221104_20221130_02_T1_ndvi.TIF\n",
      "'/vsicurl/https://landsateuwest.blob.core.windows.net/landsat-c2/level-2/standard/oli-tirs/2022/073/089/LC07_L2SP_073089_20221104_20221130_02_T1/LC07_L2SP_073089_20221104_20221130_02_T1_SR_B4.TIF?st=2024-03-07T16%3A44%3A05Z&se=2024-03-08T17%3A29%3A05Z&sp=rl&sv=2021-06-08&sr=c&skoid=c85c15d6-d1ae-42d4-af60-e2ca0f81359b&sktid=72f988bf-86f1-41af-91ab-2d7cd011db47&skt=2024-03-08T13%3A21%3A50Z&ske=2024-03-15T13%3A21%3A50Z&sks=b&skv=2021-06-08&sig=YloOJGrvMOzYS9VTryZ1XKIy/2Vz4/AeH4zcnt00eTY%3D' not recognized as a supported file format.\n",
      "../1-raw-data/ndvi\\LC07_L2SP_073089_20201202_20201229_02_T1_ndvi.TIF\n",
      "'/vsicurl/https://landsateuwest.blob.core.windows.net/landsat-c2/level-2/standard/oli-tirs/2020/073/089/LC07_L2SP_073089_20201202_20201229_02_T1/LC07_L2SP_073089_20201202_20201229_02_T1_SR_B4.TIF?st=2024-03-07T16%3A44%3A05Z&se=2024-03-08T17%3A29%3A05Z&sp=rl&sv=2021-06-08&sr=c&skoid=c85c15d6-d1ae-42d4-af60-e2ca0f81359b&sktid=72f988bf-86f1-41af-91ab-2d7cd011db47&skt=2024-03-08T13%3A21%3A50Z&ske=2024-03-15T13%3A21%3A50Z&sks=b&skv=2021-06-08&sig=YloOJGrvMOzYS9VTryZ1XKIy/2Vz4/AeH4zcnt00eTY%3D' not recognized as a supported file format.\n",
      "../1-raw-data/ndvi\\LC07_L2SP_073089_20201031_20201127_02_T1_ndvi.TIF\n",
      "'/vsicurl/https://landsateuwest.blob.core.windows.net/landsat-c2/level-2/standard/oli-tirs/2020/073/089/LC07_L2SP_073089_20201031_20201127_02_T1/LC07_L2SP_073089_20201031_20201127_02_T1_SR_B4.TIF?st=2024-03-07T16%3A44%3A05Z&se=2024-03-08T17%3A29%3A05Z&sp=rl&sv=2021-06-08&sr=c&skoid=c85c15d6-d1ae-42d4-af60-e2ca0f81359b&sktid=72f988bf-86f1-41af-91ab-2d7cd011db47&skt=2024-03-08T13%3A21%3A50Z&ske=2024-03-15T13%3A21%3A50Z&sks=b&skv=2021-06-08&sig=YloOJGrvMOzYS9VTryZ1XKIy/2Vz4/AeH4zcnt00eTY%3D' not recognized as a supported file format.\n",
      "../1-raw-data/ndvi\\LC08_L2SP_073089_20201023_20201105_02_T1_ndvi.TIF\n",
      "File already exists\n",
      "local variable 'ndvi' referenced before assignment\n",
      "../1-raw-data/ndvi\\LC07_L2SP_073089_20201015_20201111_02_T1_ndvi.TIF\n",
      "'/vsicurl/https://landsateuwest.blob.core.windows.net/landsat-c2/level-2/standard/oli-tirs/2020/073/089/LC07_L2SP_073089_20201015_20201111_02_T1/LC07_L2SP_073089_20201015_20201111_02_T1_SR_B4.TIF?st=2024-03-07T16%3A44%3A05Z&se=2024-03-08T17%3A29%3A05Z&sp=rl&sv=2021-06-08&sr=c&skoid=c85c15d6-d1ae-42d4-af60-e2ca0f81359b&sktid=72f988bf-86f1-41af-91ab-2d7cd011db47&skt=2024-03-08T13%3A21%3A50Z&ske=2024-03-15T13%3A21%3A50Z&sks=b&skv=2021-06-08&sig=YloOJGrvMOzYS9VTryZ1XKIy/2Vz4/AeH4zcnt00eTY%3D' not recognized as a supported file format.\n",
      "../1-raw-data/ndvi\\LC08_L2SP_073089_20191208_20200824_02_T1_ndvi.TIF\n",
      "File already exists\n",
      "local variable 'ndvi' referenced before assignment\n",
      "../1-raw-data/ndvi\\LC08_L2SP_073089_20191005_20200825_02_T1_ndvi.TIF\n",
      "File already exists\n",
      "local variable 'ndvi' referenced before assignment\n",
      "../1-raw-data/ndvi\\LC07_L2SP_073089_20181111_20200827_02_T1_ndvi.TIF\n",
      "'/vsicurl/https://landsateuwest.blob.core.windows.net/landsat-c2/level-2/standard/oli-tirs/2018/073/089/LC07_L2SP_073089_20181111_20200827_02_T1/LC07_L2SP_073089_20181111_20200827_02_T1_SR_B4.TIF?st=2024-03-07T16%3A44%3A05Z&se=2024-03-08T17%3A29%3A05Z&sp=rl&sv=2021-06-08&sr=c&skoid=c85c15d6-d1ae-42d4-af60-e2ca0f81359b&sktid=72f988bf-86f1-41af-91ab-2d7cd011db47&skt=2024-03-08T13%3A21%3A50Z&ske=2024-03-15T13%3A21%3A50Z&sks=b&skv=2021-06-08&sig=YloOJGrvMOzYS9VTryZ1XKIy/2Vz4/AeH4zcnt00eTY%3D' not recognized as a supported file format.\n",
      "../1-raw-data/ndvi\\LC08_L2SP_073089_20181018_20200830_02_T1_ndvi.TIF\n",
      "File already exists\n",
      "local variable 'ndvi' referenced before assignment\n",
      "../1-raw-data/ndvi\\LC07_L2SP_073089_20171210_20200830_02_T1_ndvi.TIF\n",
      "'/vsicurl/https://landsateuwest.blob.core.windows.net/landsat-c2/level-2/standard/oli-tirs/2017/073/089/LC07_L2SP_073089_20171210_20200830_02_T1/LC07_L2SP_073089_20171210_20200830_02_T1_SR_B4.TIF?st=2024-03-07T16%3A44%3A05Z&se=2024-03-08T17%3A29%3A05Z&sp=rl&sv=2021-06-08&sr=c&skoid=c85c15d6-d1ae-42d4-af60-e2ca0f81359b&sktid=72f988bf-86f1-41af-91ab-2d7cd011db47&skt=2024-03-08T13%3A21%3A50Z&ske=2024-03-15T13%3A21%3A50Z&sks=b&skv=2021-06-08&sig=YloOJGrvMOzYS9VTryZ1XKIy/2Vz4/AeH4zcnt00eTY%3D' not recognized as a supported file format.\n",
      "../1-raw-data/ndvi\\LC08_L2SP_073089_20171202_20200902_02_T1_ndvi.TIF\n",
      "File already exists\n",
      "local variable 'ndvi' referenced before assignment\n",
      "../1-raw-data/ndvi\\LC07_L2SP_073089_20171108_20200830_02_T1_ndvi.TIF\n",
      "'/vsicurl/https://landsateuwest.blob.core.windows.net/landsat-c2/level-2/standard/oli-tirs/2017/073/089/LC07_L2SP_073089_20171108_20200830_02_T1/LC07_L2SP_073089_20171108_20200830_02_T1_SR_B4.TIF?st=2024-03-07T16%3A44%3A05Z&se=2024-03-08T17%3A29%3A05Z&sp=rl&sv=2021-06-08&sr=c&skoid=c85c15d6-d1ae-42d4-af60-e2ca0f81359b&sktid=72f988bf-86f1-41af-91ab-2d7cd011db47&skt=2024-03-08T13%3A21%3A50Z&ske=2024-03-15T13%3A21%3A50Z&sks=b&skv=2021-06-08&sig=YloOJGrvMOzYS9VTryZ1XKIy/2Vz4/AeH4zcnt00eTY%3D' not recognized as a supported file format.\n",
      "../1-raw-data/ndvi\\LC08_L2SP_073089_20161215_20200905_02_T1_ndvi.TIF\n",
      "File already exists\n",
      "local variable 'ndvi' referenced before assignment\n",
      "../1-raw-data/ndvi\\LC07_L2SP_073089_20161121_20200901_02_T1_ndvi.TIF\n",
      "'/vsicurl/https://landsateuwest.blob.core.windows.net/landsat-c2/level-2/standard/oli-tirs/2016/073/089/LC07_L2SP_073089_20161121_20200901_02_T1/LC07_L2SP_073089_20161121_20200901_02_T1_SR_B4.TIF?st=2024-03-07T16%3A44%3A05Z&se=2024-03-08T17%3A29%3A05Z&sp=rl&sv=2021-06-08&sr=c&skoid=c85c15d6-d1ae-42d4-af60-e2ca0f81359b&sktid=72f988bf-86f1-41af-91ab-2d7cd011db47&skt=2024-03-08T13%3A21%3A50Z&ske=2024-03-15T13%3A21%3A50Z&sks=b&skv=2021-06-08&sig=YloOJGrvMOzYS9VTryZ1XKIy/2Vz4/AeH4zcnt00eTY%3D' not recognized as a supported file format.\n",
      "../1-raw-data/ndvi\\LC08_L2SP_073089_20161012_20200905_02_T1_ndvi.TIF\n",
      "File already exists\n",
      "local variable 'ndvi' referenced before assignment\n",
      "../1-raw-data/ndvi\\LC07_L2SP_074089_20151228_20200903_02_T1_ndvi.TIF\n",
      "'/vsicurl/https://landsateuwest.blob.core.windows.net/landsat-c2/level-2/standard/oli-tirs/2015/074/089/LC07_L2SP_074089_20151228_20200903_02_T1/LC07_L2SP_074089_20151228_20200903_02_T1_SR_B4.TIF?st=2024-03-07T16%3A44%3A05Z&se=2024-03-08T17%3A29%3A05Z&sp=rl&sv=2021-06-08&sr=c&skoid=c85c15d6-d1ae-42d4-af60-e2ca0f81359b&sktid=72f988bf-86f1-41af-91ab-2d7cd011db47&skt=2024-03-08T13%3A21%3A50Z&ske=2024-03-15T13%3A21%3A50Z&sks=b&skv=2021-06-08&sig=YloOJGrvMOzYS9VTryZ1XKIy/2Vz4/AeH4zcnt00eTY%3D' not recognized as a supported file format.\n",
      "../1-raw-data/ndvi\\LC08_L2SP_073089_20151213_20200908_02_T1_ndvi.TIF\n",
      "File already exists\n",
      "local variable 'ndvi' referenced before assignment\n",
      "../1-raw-data/ndvi\\LC08_L2SP_073089_20151010_20200908_02_T1_ndvi.TIF\n",
      "File already exists\n",
      "local variable 'ndvi' referenced before assignment\n",
      "../1-raw-data/ndvi\\LC07_L2SP_073089_20151002_20200903_02_T1_ndvi.TIF\n",
      "'/vsicurl/https://landsateuwest.blob.core.windows.net/landsat-c2/level-2/standard/oli-tirs/2015/073/089/LC07_L2SP_073089_20151002_20200903_02_T1/LC07_L2SP_073089_20151002_20200903_02_T1_SR_B4.TIF?st=2024-03-07T16%3A44%3A05Z&se=2024-03-08T17%3A29%3A05Z&sp=rl&sv=2021-06-08&sr=c&skoid=c85c15d6-d1ae-42d4-af60-e2ca0f81359b&sktid=72f988bf-86f1-41af-91ab-2d7cd011db47&skt=2024-03-08T13%3A21%3A50Z&ske=2024-03-15T13%3A21%3A50Z&sks=b&skv=2021-06-08&sig=YloOJGrvMOzYS9VTryZ1XKIy/2Vz4/AeH4zcnt00eTY%3D' not recognized as a supported file format.\n"
     ]
    }
   ],
   "source": [
    "# iterate through image list and download\n",
    "\n",
    "images_with_errors = []\n",
    "for img in img_list:\n",
    "    try:\n",
    "        download_ndvi(img, False, False)\n",
    "    except Exception as e:\n",
    "        images_with_errors.append(img)\n",
    "        print(e)"
   ]
  },
  {
   "cell_type": "code",
   "execution_count": 10,
   "id": "01961514-9b4d-4410-86c2-7c31cae1f578",
   "metadata": {},
   "outputs": [
    {
     "data": {
      "text/plain": [
       "['LC08_L2SP_073089_20231219_20240103_02_T1',\n",
       " 'LE07_L2SP_074089_20231210_20240105_02_T1',\n",
       " 'LC09_L2SP_073089_20231125_20231128_02_T1',\n",
       " 'LC08_L2SP_073089_20221114_20221122_02_T1',\n",
       " 'LC09_L2SP_073089_20221106_20221110_02_T1',\n",
       " 'LE07_L2SP_073089_20221104_20221130_02_T1',\n",
       " 'LE07_L2SP_073089_20201202_20201229_02_T1',\n",
       " 'LE07_L2SP_073089_20201031_20201127_02_T1',\n",
       " 'LC08_L2SP_073089_20201023_20201105_02_T1',\n",
       " 'LE07_L2SP_073089_20201015_20201111_02_T1',\n",
       " 'LC08_L2SP_073089_20191208_20200824_02_T1',\n",
       " 'LC08_L2SP_073089_20191005_20200825_02_T1',\n",
       " 'LE07_L2SP_073089_20181111_20200827_02_T1',\n",
       " 'LC08_L2SP_073089_20181018_20200830_02_T1',\n",
       " 'LE07_L2SP_073089_20171210_20200830_02_T1',\n",
       " 'LC08_L2SP_073089_20171202_20200902_02_T1',\n",
       " 'LE07_L2SP_073089_20171108_20200830_02_T1',\n",
       " 'LC08_L2SP_073089_20161215_20200905_02_T1',\n",
       " 'LE07_L2SP_073089_20161121_20200901_02_T1',\n",
       " 'LC08_L2SP_073089_20161012_20200905_02_T1',\n",
       " 'LE07_L2SP_074089_20151228_20200903_02_T1',\n",
       " 'LE07_L2SP_073089_20151002_20200903_02_T1']"
      ]
     },
     "execution_count": 10,
     "metadata": {},
     "output_type": "execute_result"
    }
   ],
   "source": [
    "images_with_errors"
   ]
  }
 ],
 "metadata": {
  "kernelspec": {
   "display_name": "Python 3 (ipykernel)",
   "language": "python",
   "name": "python3"
  },
  "language_info": {
   "codemirror_mode": {
    "name": "ipython",
    "version": 3
   },
   "file_extension": ".py",
   "mimetype": "text/x-python",
   "name": "python",
   "nbconvert_exporter": "python",
   "pygments_lexer": "ipython3",
   "version": "3.10.13"
  }
 },
 "nbformat": 4,
 "nbformat_minor": 5
}
